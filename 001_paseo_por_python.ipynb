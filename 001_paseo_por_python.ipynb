{
 "cells": [
  {
   "cell_type": "code",
   "execution_count": 2,
   "id": "7219e75a",
   "metadata": {},
   "outputs": [
    {
     "name": "stdout",
     "output_type": "stream",
     "text": [
      "hola mundo\n"
     ]
    }
   ],
   "source": [
    "print('hola mundo')"
   ]
  },
  {
   "cell_type": "code",
   "execution_count": 3,
   "id": "ee915685",
   "metadata": {
    "scrolled": true
   },
   "outputs": [
    {
     "name": "stdout",
     "output_type": "stream",
     "text": [
      "Hola mundo\n"
     ]
    }
   ],
   "source": [
    "print('Hola mundo')"
   ]
  },
  {
   "cell_type": "code",
   "execution_count": 1,
   "id": "cf31f6d1",
   "metadata": {},
   "outputs": [
    {
     "name": "stdout",
     "output_type": "stream",
     "text": [
      "imprimir libreta\n"
     ]
    }
   ],
   "source": [
    "print('imprimir libreta')"
   ]
  },
  {
   "cell_type": "code",
   "execution_count": 3,
   "id": "9eb562c9",
   "metadata": {},
   "outputs": [
    {
     "data": {
      "text/plain": [
       "15"
      ]
     },
     "execution_count": 3,
     "metadata": {},
     "output_type": "execute_result"
    }
   ],
   "source": [
    "#operacion suma\n",
    "10+5"
   ]
  },
  {
   "cell_type": "markdown",
   "id": "5255d6c5",
   "metadata": {},
   "source": [
    "15-6"
   ]
  },
  {
   "cell_type": "code",
   "execution_count": 4,
   "id": "5e18e718",
   "metadata": {},
   "outputs": [
    {
     "data": {
      "text/plain": [
       "9"
      ]
     },
     "execution_count": 4,
     "metadata": {},
     "output_type": "execute_result"
    }
   ],
   "source": [
    "15-6"
   ]
  },
  {
   "cell_type": "code",
   "execution_count": 5,
   "id": "23eb5368",
   "metadata": {},
   "outputs": [
    {
     "data": {
      "text/plain": [
       "17"
      ]
     },
     "execution_count": 5,
     "metadata": {},
     "output_type": "execute_result"
    }
   ],
   "source": [
    "16-6\n",
    "9+8"
   ]
  },
  {
   "cell_type": "code",
   "execution_count": 6,
   "id": "e929b9d5",
   "metadata": {},
   "outputs": [
    {
     "name": "stdout",
     "output_type": "stream",
     "text": [
      "7\n"
     ]
    }
   ],
   "source": [
    "print (15-8)"
   ]
  },
  {
   "cell_type": "code",
   "execution_count": null,
   "id": "a336c9e3",
   "metadata": {},
   "outputs": [],
   "source": [
    "# operaciones aritmeticas\n",
    "# operaciones aritmeticas\n",
    "# operaciones aritmeticas\n",
    "# operaciones aritmeticas\n",
    "# operaciones aritmeticas"
   ]
  },
  {
   "cell_type": "code",
   "execution_count": 1,
   "id": "df9c063b",
   "metadata": {},
   "outputs": [
    {
     "name": "stdout",
     "output_type": "stream",
     "text": [
      "7\n",
      "17\n"
     ]
    }
   ],
   "source": [
    "# operaciones aritmeticas\n",
    "# operaciones aritmeticas\n",
    "# operaciones aritmeticas\n",
    "# operaciones aritmeticas\n",
    "# operaciones aritmeticas\n",
    "print(15-8)\n",
    "print(9+8)"
   ]
  },
  {
   "cell_type": "code",
   "execution_count": 2,
   "id": "d23570df",
   "metadata": {},
   "outputs": [
    {
     "data": {
      "text/plain": [
       "'fheffhfhfhf\\nfjfjfjfjfjf\\nfjfjfjfjfjf\\nflflfofofo'"
      ]
     },
     "execution_count": 2,
     "metadata": {},
     "output_type": "execute_result"
    }
   ],
   "source": [
    "'''fheffhfhfhf\n",
    "fjfjfjfjfjf\n",
    "fjfjfjfjfjf\n",
    "flflfofofo'''"
   ]
  },
  {
   "cell_type": "code",
   "execution_count": null,
   "id": "44633833",
   "metadata": {},
   "outputs": [],
   "source": [
    "# '''fheffhfhfhf\n",
    "# fjfjfjfjfjf\n",
    "# fjfjfjfjfjf\n",
    "# flflfofofo''"
   ]
  },
  {
   "cell_type": "markdown",
   "id": "e187e06a",
   "metadata": {},
   "source": [
    "## Uso de shortcuts\n",
    "\n",
    "|Shortcut|Acción|\n",
    "|:-:|:-|\n",
    "|alt + enter | Correr la celda y pasar a la siguiente |\n",
    "|ctrl + enter | Correr la celda y quedarse en ella |\n",
    "|A | Insertar celda arriba |\n",
    "|B | Insertar celda abajo |\n",
    "|M |Cambiar a celda de markdown|\n",
    "|Y |Cambiar a celda de código|\n",
    "|Esc|Cambiar a modo de edición|\n",
    "|C|Copiar celda|\n",
    "|V|Pegar celda|\n",
    "|X|Cortar celda|\n",
    "|ctrl+/| Comentar celdas|"
   ]
  },
  {
   "cell_type": "markdown",
   "id": "9d62d72c",
   "metadata": {},
   "source": [
    ":\n",
    "{\\displaystyle \\mathbf {v} =v_{x}(x,y,z,t){\\hat {\\mathbf {i} }}+v_{y}(x,y,z,t){\\hat {\\mathbf {j} }}+v_{z}(x,y,z,t){\\hat {\\mathbf {k} }}}{\\displaystyle \\mathbf {v} =v_{x}(x,y,z,t){\\hat {\\mathbf {i} }}+v_{y}(x,y,z,t){\\hat {\\mathbf {j} }}+v_{z}(x,y,z,t){\\hat {\\mathbf {k} }}}"
   ]
  },
  {
   "cell_type": "markdown",
   "id": "28d70cc0",
   "metadata": {},
   "source": [
    "{\\displaystyle \\mathbf {v} =v_{x}(x,y,z,t){\\hat {\\mathbf {i} }}+v_{y}(x,y,z,t){\\hat {\\mathbf {j} }}+v_{z}(x,y,z,t){\\hat {\\mathbf {k} }}}{\\displaystyle \\mathbf {v} =v_{x}(x,y,z,t){\\hat {\\mathbf {i} }}+v_{y}(x,y,z,t){\\hat {\\mathbf {j} }}+v_{z}(x,y,z,t){\\hat {\\mathbf {k} }}}\n"
   ]
  },
  {
   "cell_type": "code",
   "execution_count": null,
   "id": "c1cb0ac6",
   "metadata": {},
   "outputs": [],
   "source": [
    "V"
   ]
  }
 ],
 "metadata": {
  "kernelspec": {
   "display_name": "Python 3 (ipykernel)",
   "language": "python",
   "name": "python3"
  },
  "language_info": {
   "codemirror_mode": {
    "name": "ipython",
    "version": 3
   },
   "file_extension": ".py",
   "mimetype": "text/x-python",
   "name": "python",
   "nbconvert_exporter": "python",
   "pygments_lexer": "ipython3",
   "version": "3.9.8"
  }
 },
 "nbformat": 4,
 "nbformat_minor": 5
}

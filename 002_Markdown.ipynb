{
 "cells": [
  {
   "cell_type": "markdown",
   "id": "91164b6c",
   "metadata": {},
   "source": [
    "# H1"
   ]
  },
  {
   "cell_type": "markdown",
   "id": "8f60c022",
   "metadata": {},
   "source": [
    "## H2"
   ]
  },
  {
   "cell_type": "markdown",
   "id": "3d6fb7d9",
   "metadata": {},
   "source": [
    "Emphasis, aka bold, with **asterisk** or __undercores__."
   ]
  },
  {
   "cell_type": "markdown",
   "id": "ccc8b042",
   "metadata": {},
   "source": [
    "~~scratch~~"
   ]
  },
  {
   "attachments": {},
   "cell_type": "markdown",
   "id": "5493b557",
   "metadata": {},
   "source": [
    "\n",
    "$${\\displaystyle {\\frac {\\partial \\rho }{\\partial t}}+{\\frac {\\partial \\rho u_{i}}{\\partial x_{i}}}=0}{\\displaystyle {\\frac {\\partial \\rho }{\\partial t}}+{\\frac {\\partial \\rho u_{i}}{\\partial x_{i}}}=0}$$"
   ]
  },
  {
   "cell_type": "markdown",
   "id": "c3db083d",
   "metadata": {},
   "source": [
    "$${\\displaystyle \\iiint \\limits _{V}\\left(\\nabla \\cdot \\mathbf {F} \\right)dV=\\iint \\limits _{\\partial V}\\mathbf {F\\cdot n} \\;dS}{\\displaystyle \\iiint \\limits _{V}\\left(\\nabla \\cdot \\mathbf {F} \\right)dV=\\iint \\limits _{\\partial V}\\mathbf {F\\cdot n} \\;dS}$$"
   ]
  },
  {
   "cell_type": "markdown",
   "id": "0110010d",
   "metadata": {},
   "source": [
    "$${\\displaystyle \\iiint \\limits _{V}\\left(\\nabla \\cdot \\mathbf {F} \\right)dV=\\iint \\limits _{\\partial V}\\mathbf {F\\cdot n} \\;dS}{\\displaystyle \\iiint \\limits _{V}\\left(\\nabla \\cdot \\mathbf {F} \\right)dV=\\iint \\limits _{\\partial V}\\mathbf {F\\cdot n} \\;dS}$$"
   ]
  },
  {
   "cell_type": "code",
   "execution_count": null,
   "id": "e450f4a0",
   "metadata": {},
   "outputs": [],
   "source": []
  }
 ],
 "metadata": {
  "kernelspec": {
   "display_name": "Python 3 (ipykernel)",
   "language": "python",
   "name": "python3"
  },
  "language_info": {
   "codemirror_mode": {
    "name": "ipython",
    "version": 3
   },
   "file_extension": ".py",
   "mimetype": "text/x-python",
   "name": "python",
   "nbconvert_exporter": "python",
   "pygments_lexer": "ipython3",
   "version": "3.9.8"
  }
 },
 "nbformat": 4,
 "nbformat_minor": 5
}

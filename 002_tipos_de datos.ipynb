{
 "cells": [
  {
   "cell_type": "code",
   "execution_count": null,
   "id": "ce64879e",
   "metadata": {},
   "outputs": [],
   "source": [
    "numero = 2017\n",
    "decimal = 5.200988766\n",
    "boleano = true\n",
    "cadena = \"Hola mundo de python 12345\"\n",
    "lista = [\"a\", \"b\"]"
   ]
  }
 ],
 "metadata": {
  "kernelspec": {
   "display_name": "Python 3 (ipykernel)",
   "language": "python",
   "name": "python3"
  },
  "language_info": {
   "codemirror_mode": {
    "name": "ipython",
    "version": 3
   },
   "file_extension": ".py",
   "mimetype": "text/x-python",
   "name": "python",
   "nbconvert_exporter": "python",
   "pygments_lexer": "ipython3",
   "version": "3.9.8"
  }
 },
 "nbformat": 4,
 "nbformat_minor": 5
}
